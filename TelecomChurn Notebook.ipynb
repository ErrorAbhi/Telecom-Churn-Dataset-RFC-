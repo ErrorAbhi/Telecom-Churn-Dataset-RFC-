{
 "cells": [
  {
   "cell_type": "markdown",
   "id": "6526d126-8440-4616-9db4-20b3c25a7951",
   "metadata": {},
   "source": [
    "### Importing the Neccessary libraries"
   ]
  },
  {
   "cell_type": "code",
   "execution_count": 1,
   "id": "48e2ad5c-4ea4-451b-9894-c0f284b1ce7e",
   "metadata": {},
   "outputs": [],
   "source": [
    "import pandas as pd\n",
    "import numpy as np\n",
    "import matplotlib.pyplot as plt\n",
    "import seaborn as sns "
   ]
  },
  {
   "cell_type": "code",
   "execution_count": 2,
   "id": "267f9f5e-9c3c-4275-a143-ef8ff8caf605",
   "metadata": {},
   "outputs": [],
   "source": [
    "# Supress Warnings\n",
    "\n",
    "import warnings\n",
    "warnings.filterwarnings('ignore')"
   ]
  },
  {
   "cell_type": "markdown",
   "id": "678ef237-0ee6-4f1f-9a1d-f32fe6be1881",
   "metadata": {},
   "source": [
    "### Reading the dataset (via Pandas)"
   ]
  },
  {
   "cell_type": "code",
   "execution_count": 3,
   "id": "1daa1d07-8af9-4a55-a576-9478ed9b7986",
   "metadata": {},
   "outputs": [],
   "source": [
    "df1 = pd.read_csv(r\"C:\\Users\\Administrator\\OneDrive\\Telecom Churn Dataset\\churn_data.csv\")"
   ]
  },
  {
   "cell_type": "code",
   "execution_count": 4,
   "id": "31351b43-0468-44be-a48e-8c0d6bef2ef5",
   "metadata": {},
   "outputs": [],
   "source": [
    "df2 = pd.read_csv(r\"C:\\Users\\Administrator\\OneDrive\\Telecom Churn Dataset\\customer_data.csv\")"
   ]
  },
  {
   "cell_type": "code",
   "execution_count": 5,
   "id": "79d9871d-89ca-4f3a-bca1-31ce1d16dbd7",
   "metadata": {},
   "outputs": [],
   "source": [
    "df3 = pd.read_csv(r\"C:\\Users\\Administrator\\OneDrive\\Telecom Churn Dataset\\internet_data.csv\")"
   ]
  },
  {
   "cell_type": "code",
   "execution_count": 6,
   "id": "f3ef03d2-1a0a-4178-b6b9-8e7d85f313c8",
   "metadata": {},
   "outputs": [
    {
     "data": {
      "text/html": [
       "<div>\n",
       "<style scoped>\n",
       "    .dataframe tbody tr th:only-of-type {\n",
       "        vertical-align: middle;\n",
       "    }\n",
       "\n",
       "    .dataframe tbody tr th {\n",
       "        vertical-align: top;\n",
       "    }\n",
       "\n",
       "    .dataframe thead th {\n",
       "        text-align: right;\n",
       "    }\n",
       "</style>\n",
       "<table border=\"1\" class=\"dataframe\">\n",
       "  <thead>\n",
       "    <tr style=\"text-align: right;\">\n",
       "      <th></th>\n",
       "      <th>customerID</th>\n",
       "      <th>tenure</th>\n",
       "      <th>PhoneService</th>\n",
       "      <th>Contract</th>\n",
       "      <th>PaperlessBilling</th>\n",
       "      <th>PaymentMethod</th>\n",
       "      <th>MonthlyCharges</th>\n",
       "      <th>TotalCharges</th>\n",
       "      <th>Churn</th>\n",
       "    </tr>\n",
       "  </thead>\n",
       "  <tbody>\n",
       "    <tr>\n",
       "      <th>0</th>\n",
       "      <td>7590-VHVEG</td>\n",
       "      <td>1</td>\n",
       "      <td>No</td>\n",
       "      <td>Month-to-month</td>\n",
       "      <td>Yes</td>\n",
       "      <td>Electronic check</td>\n",
       "      <td>29.85</td>\n",
       "      <td>29.85</td>\n",
       "      <td>No</td>\n",
       "    </tr>\n",
       "    <tr>\n",
       "      <th>1</th>\n",
       "      <td>5575-GNVDE</td>\n",
       "      <td>34</td>\n",
       "      <td>Yes</td>\n",
       "      <td>One year</td>\n",
       "      <td>No</td>\n",
       "      <td>Mailed check</td>\n",
       "      <td>56.95</td>\n",
       "      <td>1889.5</td>\n",
       "      <td>No</td>\n",
       "    </tr>\n",
       "    <tr>\n",
       "      <th>2</th>\n",
       "      <td>3668-QPYBK</td>\n",
       "      <td>2</td>\n",
       "      <td>Yes</td>\n",
       "      <td>Month-to-month</td>\n",
       "      <td>Yes</td>\n",
       "      <td>Mailed check</td>\n",
       "      <td>53.85</td>\n",
       "      <td>108.15</td>\n",
       "      <td>Yes</td>\n",
       "    </tr>\n",
       "    <tr>\n",
       "      <th>3</th>\n",
       "      <td>7795-CFOCW</td>\n",
       "      <td>45</td>\n",
       "      <td>No</td>\n",
       "      <td>One year</td>\n",
       "      <td>No</td>\n",
       "      <td>Bank transfer (automatic)</td>\n",
       "      <td>42.30</td>\n",
       "      <td>1840.75</td>\n",
       "      <td>No</td>\n",
       "    </tr>\n",
       "    <tr>\n",
       "      <th>4</th>\n",
       "      <td>9237-HQITU</td>\n",
       "      <td>2</td>\n",
       "      <td>Yes</td>\n",
       "      <td>Month-to-month</td>\n",
       "      <td>Yes</td>\n",
       "      <td>Electronic check</td>\n",
       "      <td>70.70</td>\n",
       "      <td>151.65</td>\n",
       "      <td>Yes</td>\n",
       "    </tr>\n",
       "  </tbody>\n",
       "</table>\n",
       "</div>"
      ],
      "text/plain": [
       "   customerID  tenure PhoneService        Contract PaperlessBilling  \\\n",
       "0  7590-VHVEG       1           No  Month-to-month              Yes   \n",
       "1  5575-GNVDE      34          Yes        One year               No   \n",
       "2  3668-QPYBK       2          Yes  Month-to-month              Yes   \n",
       "3  7795-CFOCW      45           No        One year               No   \n",
       "4  9237-HQITU       2          Yes  Month-to-month              Yes   \n",
       "\n",
       "               PaymentMethod  MonthlyCharges TotalCharges Churn  \n",
       "0           Electronic check           29.85        29.85    No  \n",
       "1               Mailed check           56.95       1889.5    No  \n",
       "2               Mailed check           53.85       108.15   Yes  \n",
       "3  Bank transfer (automatic)           42.30      1840.75    No  \n",
       "4           Electronic check           70.70       151.65   Yes  "
      ]
     },
     "execution_count": 6,
     "metadata": {},
     "output_type": "execute_result"
    }
   ],
   "source": [
    "# to show first 5 rows of the dataset\n",
    "df1.head(5)"
   ]
  },
  {
   "cell_type": "code",
   "execution_count": 7,
   "id": "1d32c7ee-30ee-4ac0-80ec-6ee00424fc1f",
   "metadata": {},
   "outputs": [
    {
     "data": {
      "text/html": [
       "<div>\n",
       "<style scoped>\n",
       "    .dataframe tbody tr th:only-of-type {\n",
       "        vertical-align: middle;\n",
       "    }\n",
       "\n",
       "    .dataframe tbody tr th {\n",
       "        vertical-align: top;\n",
       "    }\n",
       "\n",
       "    .dataframe thead th {\n",
       "        text-align: right;\n",
       "    }\n",
       "</style>\n",
       "<table border=\"1\" class=\"dataframe\">\n",
       "  <thead>\n",
       "    <tr style=\"text-align: right;\">\n",
       "      <th></th>\n",
       "      <th>customerID</th>\n",
       "      <th>gender</th>\n",
       "      <th>SeniorCitizen</th>\n",
       "      <th>Partner</th>\n",
       "      <th>Dependents</th>\n",
       "    </tr>\n",
       "  </thead>\n",
       "  <tbody>\n",
       "    <tr>\n",
       "      <th>0</th>\n",
       "      <td>7590-VHVEG</td>\n",
       "      <td>Female</td>\n",
       "      <td>0</td>\n",
       "      <td>Yes</td>\n",
       "      <td>No</td>\n",
       "    </tr>\n",
       "    <tr>\n",
       "      <th>1</th>\n",
       "      <td>5575-GNVDE</td>\n",
       "      <td>Male</td>\n",
       "      <td>0</td>\n",
       "      <td>No</td>\n",
       "      <td>No</td>\n",
       "    </tr>\n",
       "    <tr>\n",
       "      <th>2</th>\n",
       "      <td>3668-QPYBK</td>\n",
       "      <td>Male</td>\n",
       "      <td>0</td>\n",
       "      <td>No</td>\n",
       "      <td>No</td>\n",
       "    </tr>\n",
       "    <tr>\n",
       "      <th>3</th>\n",
       "      <td>7795-CFOCW</td>\n",
       "      <td>Male</td>\n",
       "      <td>0</td>\n",
       "      <td>No</td>\n",
       "      <td>No</td>\n",
       "    </tr>\n",
       "    <tr>\n",
       "      <th>4</th>\n",
       "      <td>9237-HQITU</td>\n",
       "      <td>Female</td>\n",
       "      <td>0</td>\n",
       "      <td>No</td>\n",
       "      <td>No</td>\n",
       "    </tr>\n",
       "  </tbody>\n",
       "</table>\n",
       "</div>"
      ],
      "text/plain": [
       "   customerID  gender  SeniorCitizen Partner Dependents\n",
       "0  7590-VHVEG  Female              0     Yes         No\n",
       "1  5575-GNVDE    Male              0      No         No\n",
       "2  3668-QPYBK    Male              0      No         No\n",
       "3  7795-CFOCW    Male              0      No         No\n",
       "4  9237-HQITU  Female              0      No         No"
      ]
     },
     "execution_count": 7,
     "metadata": {},
     "output_type": "execute_result"
    }
   ],
   "source": [
    "# to show first 5 rows of the dataset\n",
    "df2.head(5)"
   ]
  },
  {
   "cell_type": "code",
   "execution_count": 8,
   "id": "6aaf0341-a4a6-4c0a-87a0-db1bab2c6c36",
   "metadata": {},
   "outputs": [
    {
     "data": {
      "text/html": [
       "<div>\n",
       "<style scoped>\n",
       "    .dataframe tbody tr th:only-of-type {\n",
       "        vertical-align: middle;\n",
       "    }\n",
       "\n",
       "    .dataframe tbody tr th {\n",
       "        vertical-align: top;\n",
       "    }\n",
       "\n",
       "    .dataframe thead th {\n",
       "        text-align: right;\n",
       "    }\n",
       "</style>\n",
       "<table border=\"1\" class=\"dataframe\">\n",
       "  <thead>\n",
       "    <tr style=\"text-align: right;\">\n",
       "      <th></th>\n",
       "      <th>customerID</th>\n",
       "      <th>MultipleLines</th>\n",
       "      <th>InternetService</th>\n",
       "      <th>OnlineSecurity</th>\n",
       "      <th>OnlineBackup</th>\n",
       "      <th>DeviceProtection</th>\n",
       "      <th>TechSupport</th>\n",
       "      <th>StreamingTV</th>\n",
       "      <th>StreamingMovies</th>\n",
       "    </tr>\n",
       "  </thead>\n",
       "  <tbody>\n",
       "    <tr>\n",
       "      <th>0</th>\n",
       "      <td>7590-VHVEG</td>\n",
       "      <td>No phone service</td>\n",
       "      <td>DSL</td>\n",
       "      <td>No</td>\n",
       "      <td>Yes</td>\n",
       "      <td>No</td>\n",
       "      <td>No</td>\n",
       "      <td>No</td>\n",
       "      <td>No</td>\n",
       "    </tr>\n",
       "    <tr>\n",
       "      <th>1</th>\n",
       "      <td>5575-GNVDE</td>\n",
       "      <td>No</td>\n",
       "      <td>DSL</td>\n",
       "      <td>Yes</td>\n",
       "      <td>No</td>\n",
       "      <td>Yes</td>\n",
       "      <td>No</td>\n",
       "      <td>No</td>\n",
       "      <td>No</td>\n",
       "    </tr>\n",
       "    <tr>\n",
       "      <th>2</th>\n",
       "      <td>3668-QPYBK</td>\n",
       "      <td>No</td>\n",
       "      <td>DSL</td>\n",
       "      <td>Yes</td>\n",
       "      <td>Yes</td>\n",
       "      <td>No</td>\n",
       "      <td>No</td>\n",
       "      <td>No</td>\n",
       "      <td>No</td>\n",
       "    </tr>\n",
       "    <tr>\n",
       "      <th>3</th>\n",
       "      <td>7795-CFOCW</td>\n",
       "      <td>No phone service</td>\n",
       "      <td>DSL</td>\n",
       "      <td>Yes</td>\n",
       "      <td>No</td>\n",
       "      <td>Yes</td>\n",
       "      <td>Yes</td>\n",
       "      <td>No</td>\n",
       "      <td>No</td>\n",
       "    </tr>\n",
       "    <tr>\n",
       "      <th>4</th>\n",
       "      <td>9237-HQITU</td>\n",
       "      <td>No</td>\n",
       "      <td>Fiber optic</td>\n",
       "      <td>No</td>\n",
       "      <td>No</td>\n",
       "      <td>No</td>\n",
       "      <td>No</td>\n",
       "      <td>No</td>\n",
       "      <td>No</td>\n",
       "    </tr>\n",
       "  </tbody>\n",
       "</table>\n",
       "</div>"
      ],
      "text/plain": [
       "   customerID     MultipleLines InternetService OnlineSecurity OnlineBackup  \\\n",
       "0  7590-VHVEG  No phone service             DSL             No          Yes   \n",
       "1  5575-GNVDE                No             DSL            Yes           No   \n",
       "2  3668-QPYBK                No             DSL            Yes          Yes   \n",
       "3  7795-CFOCW  No phone service             DSL            Yes           No   \n",
       "4  9237-HQITU                No     Fiber optic             No           No   \n",
       "\n",
       "  DeviceProtection TechSupport StreamingTV StreamingMovies  \n",
       "0               No          No          No              No  \n",
       "1              Yes          No          No              No  \n",
       "2               No          No          No              No  \n",
       "3              Yes         Yes          No              No  \n",
       "4               No          No          No              No  "
      ]
     },
     "execution_count": 8,
     "metadata": {},
     "output_type": "execute_result"
    }
   ],
   "source": [
    "# to show first 5 rows of the dataset\n",
    "df3.head(5)"
   ]
  },
  {
   "cell_type": "code",
   "execution_count": 9,
   "id": "9e08ec75-c5b2-4f3c-ab5b-a72c5b856b64",
   "metadata": {},
   "outputs": [
    {
     "data": {
      "text/plain": [
       "(7043, 9)"
      ]
     },
     "execution_count": 9,
     "metadata": {},
     "output_type": "execute_result"
    }
   ],
   "source": [
    "df1.shape"
   ]
  },
  {
   "cell_type": "code",
   "execution_count": 10,
   "id": "08717e25-1b54-4c1a-be34-160552c6943e",
   "metadata": {},
   "outputs": [
    {
     "data": {
      "text/plain": [
       "(7043, 5)"
      ]
     },
     "execution_count": 10,
     "metadata": {},
     "output_type": "execute_result"
    }
   ],
   "source": [
    "df2.shape"
   ]
  },
  {
   "cell_type": "code",
   "execution_count": 11,
   "id": "2fea92aa-47f5-4d89-b90f-0d6d3c239bbc",
   "metadata": {},
   "outputs": [
    {
     "data": {
      "text/plain": [
       "(7043, 9)"
      ]
     },
     "execution_count": 11,
     "metadata": {},
     "output_type": "execute_result"
    }
   ],
   "source": [
    "df3.shape"
   ]
  },
  {
   "cell_type": "markdown",
   "id": "cd96e0c7-b345-40b5-9768-7577e0215ed5",
   "metadata": {},
   "source": [
    "**now we need to concat all 3 dataset into one dataset**"
   ]
  },
  {
   "cell_type": "code",
   "execution_count": 12,
   "id": "91b3b6e0-a5e8-4191-aa58-f47bb907fffc",
   "metadata": {},
   "outputs": [],
   "source": [
    "df2.drop('customerID',axis=1,inplace=True) # drop because df1 has already 'customerID' "
   ]
  },
  {
   "cell_type": "code",
   "execution_count": 13,
   "id": "e46fe367-c42e-46a1-b289-7b849e34d654",
   "metadata": {},
   "outputs": [],
   "source": [
    "df3.drop('customerID',axis=1,inplace=True) # drop because df1 has already 'customerID' "
   ]
  },
  {
   "cell_type": "code",
   "execution_count": 14,
   "id": "17d2c06f-8e19-4137-b7bf-73b0bc29530c",
   "metadata": {},
   "outputs": [],
   "source": [
    "df4 = pd.concat([df1,df2,df3],axis=1) # combine df1, df2, df3 and store this into df4"
   ]
  },
  {
   "cell_type": "code",
   "execution_count": 15,
   "id": "2a69e2dc-5b94-4a10-a4f5-877c4a182bb3",
   "metadata": {},
   "outputs": [
    {
     "data": {
      "text/html": [
       "<div>\n",
       "<style scoped>\n",
       "    .dataframe tbody tr th:only-of-type {\n",
       "        vertical-align: middle;\n",
       "    }\n",
       "\n",
       "    .dataframe tbody tr th {\n",
       "        vertical-align: top;\n",
       "    }\n",
       "\n",
       "    .dataframe thead th {\n",
       "        text-align: right;\n",
       "    }\n",
       "</style>\n",
       "<table border=\"1\" class=\"dataframe\">\n",
       "  <thead>\n",
       "    <tr style=\"text-align: right;\">\n",
       "      <th></th>\n",
       "      <th>customerID</th>\n",
       "      <th>tenure</th>\n",
       "      <th>PhoneService</th>\n",
       "      <th>Contract</th>\n",
       "      <th>PaperlessBilling</th>\n",
       "      <th>PaymentMethod</th>\n",
       "      <th>MonthlyCharges</th>\n",
       "      <th>TotalCharges</th>\n",
       "      <th>Churn</th>\n",
       "      <th>gender</th>\n",
       "      <th>...</th>\n",
       "      <th>Partner</th>\n",
       "      <th>Dependents</th>\n",
       "      <th>MultipleLines</th>\n",
       "      <th>InternetService</th>\n",
       "      <th>OnlineSecurity</th>\n",
       "      <th>OnlineBackup</th>\n",
       "      <th>DeviceProtection</th>\n",
       "      <th>TechSupport</th>\n",
       "      <th>StreamingTV</th>\n",
       "      <th>StreamingMovies</th>\n",
       "    </tr>\n",
       "  </thead>\n",
       "  <tbody>\n",
       "    <tr>\n",
       "      <th>0</th>\n",
       "      <td>7590-VHVEG</td>\n",
       "      <td>1</td>\n",
       "      <td>No</td>\n",
       "      <td>Month-to-month</td>\n",
       "      <td>Yes</td>\n",
       "      <td>Electronic check</td>\n",
       "      <td>29.85</td>\n",
       "      <td>29.85</td>\n",
       "      <td>No</td>\n",
       "      <td>Female</td>\n",
       "      <td>...</td>\n",
       "      <td>Yes</td>\n",
       "      <td>No</td>\n",
       "      <td>No phone service</td>\n",
       "      <td>DSL</td>\n",
       "      <td>No</td>\n",
       "      <td>Yes</td>\n",
       "      <td>No</td>\n",
       "      <td>No</td>\n",
       "      <td>No</td>\n",
       "      <td>No</td>\n",
       "    </tr>\n",
       "    <tr>\n",
       "      <th>1</th>\n",
       "      <td>5575-GNVDE</td>\n",
       "      <td>34</td>\n",
       "      <td>Yes</td>\n",
       "      <td>One year</td>\n",
       "      <td>No</td>\n",
       "      <td>Mailed check</td>\n",
       "      <td>56.95</td>\n",
       "      <td>1889.5</td>\n",
       "      <td>No</td>\n",
       "      <td>Male</td>\n",
       "      <td>...</td>\n",
       "      <td>No</td>\n",
       "      <td>No</td>\n",
       "      <td>No</td>\n",
       "      <td>DSL</td>\n",
       "      <td>Yes</td>\n",
       "      <td>No</td>\n",
       "      <td>Yes</td>\n",
       "      <td>No</td>\n",
       "      <td>No</td>\n",
       "      <td>No</td>\n",
       "    </tr>\n",
       "    <tr>\n",
       "      <th>2</th>\n",
       "      <td>3668-QPYBK</td>\n",
       "      <td>2</td>\n",
       "      <td>Yes</td>\n",
       "      <td>Month-to-month</td>\n",
       "      <td>Yes</td>\n",
       "      <td>Mailed check</td>\n",
       "      <td>53.85</td>\n",
       "      <td>108.15</td>\n",
       "      <td>Yes</td>\n",
       "      <td>Male</td>\n",
       "      <td>...</td>\n",
       "      <td>No</td>\n",
       "      <td>No</td>\n",
       "      <td>No</td>\n",
       "      <td>DSL</td>\n",
       "      <td>Yes</td>\n",
       "      <td>Yes</td>\n",
       "      <td>No</td>\n",
       "      <td>No</td>\n",
       "      <td>No</td>\n",
       "      <td>No</td>\n",
       "    </tr>\n",
       "    <tr>\n",
       "      <th>3</th>\n",
       "      <td>7795-CFOCW</td>\n",
       "      <td>45</td>\n",
       "      <td>No</td>\n",
       "      <td>One year</td>\n",
       "      <td>No</td>\n",
       "      <td>Bank transfer (automatic)</td>\n",
       "      <td>42.30</td>\n",
       "      <td>1840.75</td>\n",
       "      <td>No</td>\n",
       "      <td>Male</td>\n",
       "      <td>...</td>\n",
       "      <td>No</td>\n",
       "      <td>No</td>\n",
       "      <td>No phone service</td>\n",
       "      <td>DSL</td>\n",
       "      <td>Yes</td>\n",
       "      <td>No</td>\n",
       "      <td>Yes</td>\n",
       "      <td>Yes</td>\n",
       "      <td>No</td>\n",
       "      <td>No</td>\n",
       "    </tr>\n",
       "    <tr>\n",
       "      <th>4</th>\n",
       "      <td>9237-HQITU</td>\n",
       "      <td>2</td>\n",
       "      <td>Yes</td>\n",
       "      <td>Month-to-month</td>\n",
       "      <td>Yes</td>\n",
       "      <td>Electronic check</td>\n",
       "      <td>70.70</td>\n",
       "      <td>151.65</td>\n",
       "      <td>Yes</td>\n",
       "      <td>Female</td>\n",
       "      <td>...</td>\n",
       "      <td>No</td>\n",
       "      <td>No</td>\n",
       "      <td>No</td>\n",
       "      <td>Fiber optic</td>\n",
       "      <td>No</td>\n",
       "      <td>No</td>\n",
       "      <td>No</td>\n",
       "      <td>No</td>\n",
       "      <td>No</td>\n",
       "      <td>No</td>\n",
       "    </tr>\n",
       "  </tbody>\n",
       "</table>\n",
       "<p>5 rows × 21 columns</p>\n",
       "</div>"
      ],
      "text/plain": [
       "   customerID  tenure PhoneService        Contract PaperlessBilling  \\\n",
       "0  7590-VHVEG       1           No  Month-to-month              Yes   \n",
       "1  5575-GNVDE      34          Yes        One year               No   \n",
       "2  3668-QPYBK       2          Yes  Month-to-month              Yes   \n",
       "3  7795-CFOCW      45           No        One year               No   \n",
       "4  9237-HQITU       2          Yes  Month-to-month              Yes   \n",
       "\n",
       "               PaymentMethod  MonthlyCharges TotalCharges Churn  gender  ...  \\\n",
       "0           Electronic check           29.85        29.85    No  Female  ...   \n",
       "1               Mailed check           56.95       1889.5    No    Male  ...   \n",
       "2               Mailed check           53.85       108.15   Yes    Male  ...   \n",
       "3  Bank transfer (automatic)           42.30      1840.75    No    Male  ...   \n",
       "4           Electronic check           70.70       151.65   Yes  Female  ...   \n",
       "\n",
       "   Partner Dependents     MultipleLines InternetService OnlineSecurity  \\\n",
       "0      Yes         No  No phone service             DSL             No   \n",
       "1       No         No                No             DSL            Yes   \n",
       "2       No         No                No             DSL            Yes   \n",
       "3       No         No  No phone service             DSL            Yes   \n",
       "4       No         No                No     Fiber optic             No   \n",
       "\n",
       "  OnlineBackup DeviceProtection TechSupport StreamingTV StreamingMovies  \n",
       "0          Yes               No          No          No              No  \n",
       "1           No              Yes          No          No              No  \n",
       "2          Yes               No          No          No              No  \n",
       "3           No              Yes         Yes          No              No  \n",
       "4           No               No          No          No              No  \n",
       "\n",
       "[5 rows x 21 columns]"
      ]
     },
     "execution_count": 15,
     "metadata": {},
     "output_type": "execute_result"
    }
   ],
   "source": [
    "df4.head(5)"
   ]
  },
  {
   "cell_type": "code",
   "execution_count": 16,
   "id": "85c52bed-156d-467f-b127-853b7f46a559",
   "metadata": {},
   "outputs": [
    {
     "data": {
      "text/plain": [
       "(7043, 21)"
      ]
     },
     "execution_count": 16,
     "metadata": {},
     "output_type": "execute_result"
    }
   ],
   "source": [
    "df4.shape"
   ]
  },
  {
   "cell_type": "code",
   "execution_count": 17,
   "id": "982e5c50-2203-4e3f-829c-8e76f78d67c6",
   "metadata": {},
   "outputs": [
    {
     "name": "stdout",
     "output_type": "stream",
     "text": [
      "<class 'pandas.core.frame.DataFrame'>\n",
      "RangeIndex: 7043 entries, 0 to 7042\n",
      "Data columns (total 21 columns):\n",
      " #   Column            Non-Null Count  Dtype  \n",
      "---  ------            --------------  -----  \n",
      " 0   customerID        7043 non-null   object \n",
      " 1   tenure            7043 non-null   int64  \n",
      " 2   PhoneService      7043 non-null   object \n",
      " 3   Contract          7043 non-null   object \n",
      " 4   PaperlessBilling  7043 non-null   object \n",
      " 5   PaymentMethod     7043 non-null   object \n",
      " 6   MonthlyCharges    7043 non-null   float64\n",
      " 7   TotalCharges      7043 non-null   object \n",
      " 8   Churn             7043 non-null   object \n",
      " 9   gender            7043 non-null   object \n",
      " 10  SeniorCitizen     7043 non-null   int64  \n",
      " 11  Partner           7043 non-null   object \n",
      " 12  Dependents        7043 non-null   object \n",
      " 13  MultipleLines     7043 non-null   object \n",
      " 14  InternetService   7043 non-null   object \n",
      " 15  OnlineSecurity    7043 non-null   object \n",
      " 16  OnlineBackup      7043 non-null   object \n",
      " 17  DeviceProtection  7043 non-null   object \n",
      " 18  TechSupport       7043 non-null   object \n",
      " 19  StreamingTV       7043 non-null   object \n",
      " 20  StreamingMovies   7043 non-null   object \n",
      "dtypes: float64(1), int64(2), object(18)\n",
      "memory usage: 1.1+ MB\n"
     ]
    }
   ],
   "source": [
    "df4.info() # to check datatypes of all columns"
   ]
  },
  {
   "cell_type": "code",
   "execution_count": 18,
   "id": "224f7b0a-986e-49c2-a30e-b3c3db5be582",
   "metadata": {},
   "outputs": [
    {
     "data": {
      "text/plain": [
       "Index(['customerID', 'PhoneService', 'Contract', 'PaperlessBilling',\n",
       "       'PaymentMethod', 'TotalCharges', 'Churn', 'gender', 'Partner',\n",
       "       'Dependents', 'MultipleLines', 'InternetService', 'OnlineSecurity',\n",
       "       'OnlineBackup', 'DeviceProtection', 'TechSupport', 'StreamingTV',\n",
       "       'StreamingMovies'],\n",
       "      dtype='object')"
      ]
     },
     "execution_count": 18,
     "metadata": {},
     "output_type": "execute_result"
    }
   ],
   "source": [
    "# check which column have object values\n",
    "df4.select_dtypes(include=\"object\").columns"
   ]
  },
  {
   "cell_type": "code",
   "execution_count": 19,
   "id": "97dd0d5e-b005-40dd-94c8-f000be89efa9",
   "metadata": {},
   "outputs": [
    {
     "data": {
      "text/plain": [
       "18"
      ]
     },
     "execution_count": 19,
     "metadata": {},
     "output_type": "execute_result"
    }
   ],
   "source": [
    "# check length of all object columns\n",
    "len(df4.select_dtypes(include=\"object\").columns)"
   ]
  },
  {
   "cell_type": "markdown",
   "id": "d4784856-9a85-4346-a58b-c9ff433e8a10",
   "metadata": {},
   "source": [
    "### Data Preparation ( Cleaning, handling missing values, outliers, Encoding,value_counts, change in format etc.)"
   ]
  },
  {
   "cell_type": "code",
   "execution_count": 20,
   "id": "aae3147b-227a-4695-8e42-3ee5f0d5f747",
   "metadata": {},
   "outputs": [
    {
     "data": {
      "text/plain": [
       "customerID          0\n",
       "tenure              0\n",
       "PhoneService        0\n",
       "Contract            0\n",
       "PaperlessBilling    0\n",
       "PaymentMethod       0\n",
       "MonthlyCharges      0\n",
       "TotalCharges        0\n",
       "Churn               0\n",
       "gender              0\n",
       "SeniorCitizen       0\n",
       "Partner             0\n",
       "Dependents          0\n",
       "MultipleLines       0\n",
       "InternetService     0\n",
       "OnlineSecurity      0\n",
       "OnlineBackup        0\n",
       "DeviceProtection    0\n",
       "TechSupport         0\n",
       "StreamingTV         0\n",
       "StreamingMovies     0\n",
       "dtype: int64"
      ]
     },
     "execution_count": 20,
     "metadata": {},
     "output_type": "execute_result"
    }
   ],
   "source": [
    "# to check null values\n",
    "df4.isnull().sum()"
   ]
  },
  {
   "cell_type": "code",
   "execution_count": 21,
   "id": "cbf1281e-6f2f-40f0-b242-ff54ee645e02",
   "metadata": {},
   "outputs": [
    {
     "data": {
      "text/plain": [
       "customerID          0.0\n",
       "tenure              0.0\n",
       "PhoneService        0.0\n",
       "Contract            0.0\n",
       "PaperlessBilling    0.0\n",
       "PaymentMethod       0.0\n",
       "MonthlyCharges      0.0\n",
       "TotalCharges        0.0\n",
       "Churn               0.0\n",
       "gender              0.0\n",
       "SeniorCitizen       0.0\n",
       "Partner             0.0\n",
       "Dependents          0.0\n",
       "MultipleLines       0.0\n",
       "InternetService     0.0\n",
       "OnlineSecurity      0.0\n",
       "OnlineBackup        0.0\n",
       "DeviceProtection    0.0\n",
       "TechSupport         0.0\n",
       "StreamingTV         0.0\n",
       "StreamingMovies     0.0\n",
       "dtype: float64"
      ]
     },
     "execution_count": 21,
     "metadata": {},
     "output_type": "execute_result"
    }
   ],
   "source": [
    "# to check null values in terms of percentage\n",
    "df4.isnull().sum()/len(df4)*100"
   ]
  },
  {
   "cell_type": "markdown",
   "id": "3a9511aa-49f0-46b7-ab65-50b8451d7198",
   "metadata": {},
   "source": [
    "### Visualization"
   ]
  },
  {
   "cell_type": "code",
   "execution_count": 22,
   "id": "6b6fd98a-f38c-46ea-b986-91c76e3088ea",
   "metadata": {},
   "outputs": [
    {
     "data": {
      "text/plain": [
       "Churn\n",
       "No     5174\n",
       "Yes    1869\n",
       "Name: count, dtype: int64"
      ]
     },
     "execution_count": 22,
     "metadata": {},
     "output_type": "execute_result"
    }
   ],
   "source": [
    "df4['Churn'].value_counts()"
   ]
  },
  {
   "cell_type": "code",
   "execution_count": 23,
   "id": "de6eb3bf-4989-4597-bec9-4aaba5530b53",
   "metadata": {},
   "outputs": [
    {
     "data": {
      "image/png": "[encoded data removed]",
      "text/plain": [
       "<Figure size 300x300 with 1 Axes>"
      ]
     },
     "metadata": {},
     "output_type": "display_data"
    }
   ],
   "source": [
    "#class imbalance\n",
    "\n",
    "plt.figure(figsize=(3,3))\n",
    "plt.pie(df4['Churn'].value_counts(),autopct='%.2f')\n",
    "plt.show()"
   ]
  },
  {
   "cell_type": "code",
   "execution_count": 24,
   "id": "f4b1fb1c-cf89-432a-b07d-89d6dc29feaa",
   "metadata": {},
   "outputs": [
    {
     "data": {
      "image/png": "[encoded data removed]",
      "text/plain": [
       "<Figure size 300x200 with 1 Axes>"
      ]
     },
     "metadata": {},
     "output_type": "display_data"
    }
   ],
   "source": [
    "#barplot\n",
    "\n",
    "plt.figure(figsize=(3,2))\n",
    "value_counts = ['No','Yes']\n",
    "df4['Churn'].value_counts().plot.bar()\n",
    "plt.show()"
   ]
  },
  {
   "cell_type": "code",
   "execution_count": 25,
   "id": "33c6db50-1f51-4d25-833a-d903ee3dd67d",
   "metadata": {},
   "outputs": [
    {
     "data": {
      "text/plain": [
       "Contract\n",
       "Month-to-month    3875\n",
       "Two year          1695\n",
       "One year          1473\n",
       "Name: count, dtype: int64"
      ]
     },
     "execution_count": 25,
     "metadata": {},
     "output_type": "execute_result"
    }
   ],
   "source": [
    "df4['Contract'].value_counts()"
   ]
  },
  {
   "cell_type": "code",
   "execution_count": 26,
   "id": "419f1ddd-8397-4414-83c0-d9325709a077",
   "metadata": {},
   "outputs": [
    {
     "data": {
      "image/png": "[encoded data removed]",
      "text/plain": [
       "<Figure size 640x480 with 1 Axes>"
      ]
     },
     "metadata": {},
     "output_type": "display_data"
    }
   ],
   "source": [
    "# Group by 'Churn' and 'Contract', then get the size of each group\n",
    "\n",
    "df4.groupby(['Contract', 'Churn']).size().unstack().plot(kind='bar')\n",
    "\n",
    "# Adding labels and title for clarity\n",
    "plt.xlabel('Churn')\n",
    "plt.ylabel('Count')\n",
    "plt.title('Contract Count by Churn')\n",
    "plt.show()"
   ]
  },
  {
   "cell_type": "code",
   "execution_count": 27,
   "id": "a14bdb98-2924-408f-9a01-87d1822c7ffb",
   "metadata": {},
   "outputs": [
    {
     "data": {
      "text/plain": [
       "PaymentMethod\n",
       "Electronic check             2365\n",
       "Mailed check                 1612\n",
       "Bank transfer (automatic)    1544\n",
       "Credit card (automatic)      1522\n",
       "Name: count, dtype: int64"
      ]
     },
     "execution_count": 27,
     "metadata": {},
     "output_type": "execute_result"
    }
   ],
   "source": [
    "df4['PaymentMethod'].value_counts()"
   ]
  },
  {
   "cell_type": "code",
   "execution_count": 28,
   "id": "6315dfda-62ec-4f8c-9d0d-11721674da23",
   "metadata": {},
   "outputs": [
    {
     "data": {
      "image/png": "[encoded data removed]",
      "text/plain": [
       "<Figure size 640x480 with 1 Axes>"
      ]
     },
     "metadata": {},
     "output_type": "display_data"
    }
   ],
   "source": [
    "# Group by 'Churn' and 'PaymentMethod', then get the size of each group\n",
    "\n",
    "df4.groupby(['PaymentMethod', 'Churn']).size().unstack().plot(kind='bar')\n",
    "\n",
    "# Adding labels and title for clarity\n",
    "plt.xlabel('Churn')\n",
    "plt.ylabel('Count')\n",
    "plt.title('PaymentMethod Count by Churn')\n",
    "plt.show()"
   ]
  },
  {
   "cell_type": "code",
   "execution_count": 29,
   "id": "15fce183-3c58-4a75-b7b5-1962f901e534",
   "metadata": {},
   "outputs": [
    {
     "data": {
      "text/plain": [
       "SeniorCitizen\n",
       "0    5901\n",
       "1    1142\n",
       "Name: count, dtype: int64"
      ]
     },
     "execution_count": 29,
     "metadata": {},
     "output_type": "execute_result"
    }
   ],
   "source": [
    "df4['SeniorCitizen'].value_counts()"
   ]
  },
  {
   "cell_type": "code",
   "execution_count": 30,
   "id": "7a730ded-79a8-4b46-937c-e46550ff36e6",
   "metadata": {},
   "outputs": [
    {
     "data": {
      "image/png": "[encoded data removed]",
      "text/plain": [
       "<Figure size 640x480 with 1 Axes>"
      ]
     },
     "metadata": {},
     "output_type": "display_data"
    }
   ],
   "source": [
    "# Group by 'Churn' and 'SeniorCitizen', then get the size of each group\n",
    "\n",
    "df4.groupby(['SeniorCitizen', 'Churn']).size().unstack().plot(kind='bar')\n",
    "\n",
    "# Adding labels and title for clarity\n",
    "plt.xlabel('Churn')\n",
    "plt.ylabel('Count')\n",
    "plt.title('SeniorCitizen Count by Churn')\n",
    "plt.show()"
   ]
  },
  {
   "cell_type": "code",
   "execution_count": 31,
   "id": "bb79616f-3579-4290-9212-b9211780dd35",
   "metadata": {},
   "outputs": [
    {
     "data": {
      "text/plain": [
       "Partner\n",
       "No     3641\n",
       "Yes    3402\n",
       "Name: count, dtype: int64"
      ]
     },
     "execution_count": 31,
     "metadata": {},
     "output_type": "execute_result"
    }
   ],
   "source": [
    "df4['Partner'].value_counts()"
   ]
  },
  {
   "cell_type": "code",
   "execution_count": 32,
   "id": "76d6f0ba-7d6a-4b5f-b771-a045337c7110",
   "metadata": {},
   "outputs": [
    {
     "data": {
      "image/png": "[encoded data removed]",
      "text/plain": [
       "<Figure size 640x480 with 1 Axes>"
      ]
     },
     "metadata": {},
     "output_type": "display_data"
    }
   ],
   "source": [
    "# Group by 'Churn' and 'Partner', then get the size of each group\n",
    "\n",
    "df4.groupby(['Partner', 'Churn']).size().unstack().plot(kind='bar')\n",
    "\n",
    "# Adding labels and title for clarity\n",
    "plt.xlabel('Churn')\n",
    "plt.ylabel('Count')\n",
    "plt.title('Partner Count by Churn')\n",
    "plt.show()"
   ]
  },
  {
   "cell_type": "code",
   "execution_count": 33,
   "id": "dead430f-e4c5-489f-9754-2333794c19a0",
   "metadata": {},
   "outputs": [
    {
     "data": {
      "text/plain": [
       "Dependents\n",
       "No     4933\n",
       "Yes    2110\n",
       "Name: count, dtype: int64"
      ]
     },
     "execution_count": 33,
     "metadata": {},
     "output_type": "execute_result"
    }
   ],
   "source": [
    "df4['Dependents'].value_counts()"
   ]
  },
  {
   "cell_type": "code",
   "execution_count": 34,
   "id": "2dd1e684-f80e-484c-9260-1f35ea9b8dc1",
   "metadata": {},
   "outputs": [
    {
     "data": {
      "image/png": "[encoded data removed]",
      "text/plain": [
       "<Figure size 640x480 with 1 Axes>"
      ]
     },
     "metadata": {},
     "output_type": "display_data"
    }
   ],
   "source": [
    "# Group by 'Churn' and 'Dependents', then get the size of each group\n",
    "\n",
    "df4.groupby(['Dependents', 'Churn']).size().unstack().plot(kind='bar')\n",
    "\n",
    "# Adding labels and title for clarity\n",
    "plt.xlabel('Churn')\n",
    "plt.ylabel('Count')\n",
    "plt.title('Dependents Count by Churn')\n",
    "plt.show()"
   ]
  },
  {
   "cell_type": "code",
   "execution_count": 35,
   "id": "6cf4098a-68e9-4ba0-8598-103688b9f9f1",
   "metadata": {},
   "outputs": [
    {
     "data": {
      "image/png": "[encoded data removed]",
      "text/plain": [
       "<Figure size 700x500 with 1 Axes>"
      ]
     },
     "metadata": {},
     "output_type": "display_data"
    },
    {
     "data": {
      "image/png": "[encoded data removed]",
      "text/plain": [
       "<Figure size 700x500 with 1 Axes>"
      ]
     },
     "metadata": {},
     "output_type": "display_data"
    },
    {
     "data": {
      "image/png": "[encoded data removed]",
      "text/plain": [
       "<Figure size 700x500 with 1 Axes>"
      ]
     },
     "metadata": {},
     "output_type": "display_data"
    },
    {
     "data": {
      "image/png": "[encoded data removed]",
      "text/plain": [
       "<Figure size 700x500 with 1 Axes>"
      ]
     },
     "metadata": {},
     "output_type": "display_data"
    },
    {
     "data": {
      "image/png": "[encoded data removed]",
      "text/plain": [
       "<Figure size 700x500 with 1 Axes>"
      ]
     },
     "metadata": {},
     "output_type": "display_data"
    },
    {
     "data": {
      "image/png": "[encoded data removed]",
      "text/plain": [
       "<Figure size 700x500 with 1 Axes>"
      ]
     },
     "metadata": {},
     "output_type": "display_data"
    }
   ],
   "source": [
    "# List of values to replace 'Contract' in each plot\n",
    "contract_values = ['PhoneService', 'InternetService', 'OnlineSecurity', 'OnlineBackup', 'DeviceProtection','TechSupport']  # Replace with your values\n",
    "\n",
    "# Create a subplot for each contract value\n",
    "for contract_value in contract_values:\n",
    "    fig, ax = plt.subplots(figsize=(7, 5))\n",
    "\n",
    "    # Group data by Churn for the current contract value\n",
    "    grouped_data = df4.groupby([contract_value, 'Churn']).size().unstack()\n",
    "\n",
    "    # Plot the histogram\n",
    "    grouped_data.plot(kind='bar', stacked=False, ax=ax)\n",
    "    ax.set_xlabel('Churn')\n",
    "    ax.set_ylabel('Count')\n",
    "    ax.set_title(f'Customer contract distribution for {contract_value}')\n",
    "    ax.legend(title='Churn')\n",
    "\n",
    "plt.show()  # Show all the plots"
   ]
  },
  {
   "cell_type": "markdown",
   "id": "2b5babdf-93a1-41f7-a2cd-bd84b85ed037",
   "metadata": {},
   "source": [
    "### Encoding\n",
    "\n",
    "`converting all object columns into numerical columns`"
   ]
  },
  {
   "cell_type": "code",
   "execution_count": 36,
   "id": "48543819-ad19-407f-b18b-4d36542bd96f",
   "metadata": {},
   "outputs": [
    {
     "name": "stdout",
     "output_type": "stream",
     "text": [
      "<class 'pandas.core.frame.DataFrame'>\n",
      "RangeIndex: 7043 entries, 0 to 7042\n",
      "Data columns (total 21 columns):\n",
      " #   Column            Non-Null Count  Dtype  \n",
      "---  ------            --------------  -----  \n",
      " 0   customerID        7043 non-null   object \n",
      " 1   tenure            7043 non-null   int64  \n",
      " 2   PhoneService      7043 non-null   object \n",
      " 3   Contract          7043 non-null   object \n",
      " 4   PaperlessBilling  7043 non-null   object \n",
      " 5   PaymentMethod     7043 non-null   object \n",
      " 6   MonthlyCharges    7043 non-null   float64\n",
      " 7   TotalCharges      7043 non-null   object \n",
      " 8   Churn             7043 non-null   object \n",
      " 9   gender            7043 non-null   object \n",
      " 10  SeniorCitizen     7043 non-null   int64  \n",
      " 11  Partner           7043 non-null   object \n",
      " 12  Dependents        7043 non-null   object \n",
      " 13  MultipleLines     7043 non-null   object \n",
      " 14  InternetService   7043 non-null   object \n",
      " 15  OnlineSecurity    7043 non-null   object \n",
      " 16  OnlineBackup      7043 non-null   object \n",
      " 17  DeviceProtection  7043 non-null   object \n",
      " 18  TechSupport       7043 non-null   object \n",
      " 19  StreamingTV       7043 non-null   object \n",
      " 20  StreamingMovies   7043 non-null   object \n",
      "dtypes: float64(1), int64(2), object(18)\n",
      "memory usage: 1.1+ MB\n"
     ]
    }
   ],
   "source": [
    "# As we know datatypes for all column should be a number for creating a AI Model\n",
    "df4.info()"
   ]
  },
  {
   "cell_type": "code",
   "execution_count": 37,
   "id": "30caa56e-b90c-4360-8683-947173268d49",
   "metadata": {},
   "outputs": [
    {
     "name": "stdout",
     "output_type": "stream",
     "text": [
      "1 customerID : 7043\n",
      "2 tenure : 73\n",
      "3 PhoneService : 2\n",
      "4 Contract : 3\n",
      "5 PaperlessBilling : 2\n",
      "6 PaymentMethod : 4\n",
      "7 MonthlyCharges : 1585\n",
      "8 TotalCharges : 6531\n",
      "9 Churn : 2\n",
      "10 gender : 2\n",
      "11 SeniorCitizen : 2\n",
      "12 Partner : 2\n",
      "13 Dependents : 2\n",
      "14 MultipleLines : 3\n",
      "15 InternetService : 3\n",
      "16 OnlineSecurity : 3\n",
      "17 OnlineBackup : 3\n",
      "18 DeviceProtection : 3\n",
      "19 TechSupport : 3\n",
      "20 StreamingTV : 3\n",
      "21 StreamingMovies : 3\n"
     ]
    }
   ],
   "source": [
    "# to know all (object and numerical both) distinct value counts of each columns\n",
    "for i,cols in enumerate(df4.columns, start=1):\n",
    "    print(i,cols, \":\", df4[cols].nunique())"
   ]
  },
  {
   "cell_type": "code",
   "execution_count": 38,
   "id": "3ebe0765-8ed1-486b-94c7-f0bb7d809270",
   "metadata": {},
   "outputs": [
    {
     "name": "stdout",
     "output_type": "stream",
     "text": [
      "1 customerID : 7043\n",
      "3 PhoneService : 2\n",
      "4 Contract : 3\n",
      "5 PaperlessBilling : 2\n",
      "6 PaymentMethod : 4\n",
      "8 TotalCharges : 6531\n",
      "9 Churn : 2\n",
      "10 gender : 2\n",
      "12 Partner : 2\n",
      "13 Dependents : 2\n",
      "14 MultipleLines : 3\n",
      "15 InternetService : 3\n",
      "16 OnlineSecurity : 3\n",
      "17 OnlineBackup : 3\n",
      "18 DeviceProtection : 3\n",
      "19 TechSupport : 3\n",
      "20 StreamingTV : 3\n",
      "21 StreamingMovies : 3\n"
     ]
    }
   ],
   "source": [
    "# to know distinct value counts of all object columns\n",
    "# here we can find that which type of encoding we've to be perform in which object column\n",
    "\n",
    "for i,cols in enumerate(df4.columns, start=1):\n",
    "    if df4[cols].dtype == 'object':\n",
    "        print(i,cols, \":\", df4[cols].nunique())\n",
    "\n"
   ]
  },
  {
   "cell_type": "markdown",
   "id": "b81387c5-4ef6-440d-850a-3b6ccb4048f3",
   "metadata": {},
   "source": [
    "`distinct value of 2 are good contender for binary encoding (0 and 1)`\n",
    "\n",
    "`distinct value of <10 are good contender for one-hot encoding or dummy variable creation`"
   ]
  },
  {
   "cell_type": "code",
   "execution_count": 39,
   "id": "ab52e918-a755-4fc9-9a96-e4ba3cc0e302",
   "metadata": {},
   "outputs": [
    {
     "data": {
      "text/plain": [
       "Churn\n",
       "No     5174\n",
       "Yes    1869\n",
       "Name: count, dtype: int64"
      ]
     },
     "execution_count": 39,
     "metadata": {},
     "output_type": "execute_result"
    }
   ],
   "source": [
    "# let's start inspecting all elegible columns for binary encoding\n",
    "\n",
    "df4['Churn'].value_counts()"
   ]
  },
  {
   "cell_type": "code",
   "execution_count": 40,
   "id": "68d7733b-0727-4657-bb3a-4482bf654b3d",
   "metadata": {},
   "outputs": [],
   "source": [
    "df4['PhoneService'].replace({'Yes':1,'No':0}, inplace=True)   #binary"
   ]
  },
  {
   "cell_type": "code",
   "execution_count": 41,
   "id": "17342982-43ae-4c1c-bafd-175d3aa6735a",
   "metadata": {},
   "outputs": [],
   "source": [
    "df4['PaperlessBilling'].replace({'Yes':1,'No':0}, inplace=True)  #binary"
   ]
  },
  {
   "cell_type": "code",
   "execution_count": 42,
   "id": "6fa14d44-b38a-4928-89ff-a497e9ecece3",
   "metadata": {},
   "outputs": [],
   "source": [
    "df4['Churn'].replace({'Yes':1,'No':0}, inplace=True)  #binary"
   ]
  },
  {
   "cell_type": "code",
   "execution_count": 43,
   "id": "ccb1c8bd-d67f-4523-8fff-90982d5c8a0f",
   "metadata": {},
   "outputs": [],
   "source": [
    "df4['gender'].replace({'Male':1,'Female':0}, inplace=True)   #binary"
   ]
  },
  {
   "cell_type": "code",
   "execution_count": 44,
   "id": "4d3cf9f2-9a42-478b-b6ae-565ee8f8b02b",
   "metadata": {},
   "outputs": [],
   "source": [
    "df4['Partner'].replace({'Yes':1,'No':0}, inplace=True)   #binary"
   ]
  },
  {
   "cell_type": "code",
   "execution_count": 45,
   "id": "6b9f217c-98d3-4339-881c-ab5ecfef68de",
   "metadata": {},
   "outputs": [],
   "source": [
    "df4['Dependents'].replace({'Yes':1,'No':0}, inplace=True)   #binary"
   ]
  },
  {
   "cell_type": "code",
   "execution_count": 46,
   "id": "bf66740e-41af-445d-b97d-24d5bdfd7001",
   "metadata": {},
   "outputs": [
    {
     "name": "stdout",
     "output_type": "stream",
     "text": [
      "1 customerID : 7043\n",
      "4 Contract : 3\n",
      "6 PaymentMethod : 4\n",
      "8 TotalCharges : 6531\n",
      "14 MultipleLines : 3\n",
      "15 InternetService : 3\n",
      "16 OnlineSecurity : 3\n",
      "17 OnlineBackup : 3\n",
      "18 DeviceProtection : 3\n",
      "19 TechSupport : 3\n",
      "20 StreamingTV : 3\n",
      "21 StreamingMovies : 3\n"
     ]
    }
   ],
   "source": [
    "for i,cols in enumerate(df4.columns, start=1):\n",
    "    if df4[cols].dtype == 'object':\n",
    "        print(i,cols, \":\", df4[cols].nunique())"
   ]
  },
  {
   "cell_type": "code",
   "execution_count": 47,
   "id": "f583e4fe-1328-4a5a-bc9c-d4b878db737e",
   "metadata": {},
   "outputs": [],
   "source": [
    "# Identify columns in the DataFrame that have more than 2 and fewer than 5 distinct values.\n",
    "\n",
    "cols_to_encode = [col for col in df4.columns if df4[col].nunique()>2 and df4[col].nunique()<5]"
   ]
  },
  {
   "cell_type": "code",
   "execution_count": 48,
   "id": "0f1d9904-5d36-4753-8817-04f12ddca8e3",
   "metadata": {},
   "outputs": [
    {
     "data": {
      "text/plain": [
       "['Contract',\n",
       " 'PaymentMethod',\n",
       " 'MultipleLines',\n",
       " 'InternetService',\n",
       " 'OnlineSecurity',\n",
       " 'OnlineBackup',\n",
       " 'DeviceProtection',\n",
       " 'TechSupport',\n",
       " 'StreamingTV',\n",
       " 'StreamingMovies']"
      ]
     },
     "execution_count": 48,
     "metadata": {},
     "output_type": "execute_result"
    }
   ],
   "source": [
    "cols_to_encode"
   ]
  },
  {
   "cell_type": "code",
   "execution_count": 49,
   "id": "975a84c3-cb7e-4f6f-a6e1-0287ce1812b7",
   "metadata": {},
   "outputs": [],
   "source": [
    "from sklearn.preprocessing import LabelEncoder\n",
    "\n",
    "# instantiate\n",
    "le = LabelEncoder()"
   ]
  },
  {
   "cell_type": "code",
   "execution_count": 50,
   "id": "9de6a15e-d9ee-419a-9c13-31c5db8eb433",
   "metadata": {},
   "outputs": [],
   "source": [
    "# apply label encoder to convert cols_to_encode into number\n",
    "for col in cols_to_encode:\n",
    "  df4[col] = le.fit_transform(df4[col])"
   ]
  },
  {
   "cell_type": "code",
   "execution_count": 51,
   "id": "33cc8a4f-a0a3-4721-aa3e-b6abd74aa9bd",
   "metadata": {},
   "outputs": [
    {
     "data": {
      "text/html": [
       "<div>\n",
       "<style scoped>\n",
       "    .dataframe tbody tr th:only-of-type {\n",
       "        vertical-align: middle;\n",
       "    }\n",
       "\n",
       "    .dataframe tbody tr th {\n",
       "        vertical-align: top;\n",
       "    }\n",
       "\n",
       "    .dataframe thead th {\n",
       "        text-align: right;\n",
       "    }\n",
       "</style>\n",
       "<table border=\"1\" class=\"dataframe\">\n",
       "  <thead>\n",
       "    <tr style=\"text-align: right;\">\n",
       "      <th></th>\n",
       "      <th>customerID</th>\n",
       "      <th>tenure</th>\n",
       "      <th>PhoneService</th>\n",
       "      <th>Contract</th>\n",
       "      <th>PaperlessBilling</th>\n",
       "      <th>PaymentMethod</th>\n",
       "      <th>MonthlyCharges</th>\n",
       "      <th>TotalCharges</th>\n",
       "      <th>Churn</th>\n",
       "      <th>gender</th>\n",
       "      <th>...</th>\n",
       "      <th>Partner</th>\n",
       "      <th>Dependents</th>\n",
       "      <th>MultipleLines</th>\n",
       "      <th>InternetService</th>\n",
       "      <th>OnlineSecurity</th>\n",
       "      <th>OnlineBackup</th>\n",
       "      <th>DeviceProtection</th>\n",
       "      <th>TechSupport</th>\n",
       "      <th>StreamingTV</th>\n",
       "      <th>StreamingMovies</th>\n",
       "    </tr>\n",
       "  </thead>\n",
       "  <tbody>\n",
       "    <tr>\n",
       "      <th>0</th>\n",
       "      <td>7590-VHVEG</td>\n",
       "      <td>1</td>\n",
       "      <td>0</td>\n",
       "      <td>0</td>\n",
       "      <td>1</td>\n",
       "      <td>2</td>\n",
       "      <td>29.85</td>\n",
       "      <td>29.85</td>\n",
       "      <td>0</td>\n",
       "      <td>0</td>\n",
       "      <td>...</td>\n",
       "      <td>1</td>\n",
       "      <td>0</td>\n",
       "      <td>1</td>\n",
       "      <td>0</td>\n",
       "      <td>0</td>\n",
       "      <td>2</td>\n",
       "      <td>0</td>\n",
       "      <td>0</td>\n",
       "      <td>0</td>\n",
       "      <td>0</td>\n",
       "    </tr>\n",
       "    <tr>\n",
       "      <th>1</th>\n",
       "      <td>5575-GNVDE</td>\n",
       "      <td>34</td>\n",
       "      <td>1</td>\n",
       "      <td>1</td>\n",
       "      <td>0</td>\n",
       "      <td>3</td>\n",
       "      <td>56.95</td>\n",
       "      <td>1889.5</td>\n",
       "      <td>0</td>\n",
       "      <td>1</td>\n",
       "      <td>...</td>\n",
       "      <td>0</td>\n",
       "      <td>0</td>\n",
       "      <td>0</td>\n",
       "      <td>0</td>\n",
       "      <td>2</td>\n",
       "      <td>0</td>\n",
       "      <td>2</td>\n",
       "      <td>0</td>\n",
       "      <td>0</td>\n",
       "      <td>0</td>\n",
       "    </tr>\n",
       "    <tr>\n",
       "      <th>2</th>\n",
       "      <td>3668-QPYBK</td>\n",
       "      <td>2</td>\n",
       "      <td>1</td>\n",
       "      <td>0</td>\n",
       "      <td>1</td>\n",
       "      <td>3</td>\n",
       "      <td>53.85</td>\n",
       "      <td>108.15</td>\n",
       "      <td>1</td>\n",
       "      <td>1</td>\n",
       "      <td>...</td>\n",
       "      <td>0</td>\n",
       "      <td>0</td>\n",
       "      <td>0</td>\n",
       "      <td>0</td>\n",
       "      <td>2</td>\n",
       "      <td>2</td>\n",
       "      <td>0</td>\n",
       "      <td>0</td>\n",
       "      <td>0</td>\n",
       "      <td>0</td>\n",
       "    </tr>\n",
       "    <tr>\n",
       "      <th>3</th>\n",
       "      <td>7795-CFOCW</td>\n",
       "      <td>45</td>\n",
       "      <td>0</td>\n",
       "      <td>1</td>\n",
       "      <td>0</td>\n",
       "      <td>0</td>\n",
       "      <td>42.30</td>\n",
       "      <td>1840.75</td>\n",
       "      <td>0</td>\n",
       "      <td>1</td>\n",
       "      <td>...</td>\n",
       "      <td>0</td>\n",
       "      <td>0</td>\n",
       "      <td>1</td>\n",
       "      <td>0</td>\n",
       "      <td>2</td>\n",
       "      <td>0</td>\n",
       "      <td>2</td>\n",
       "      <td>2</td>\n",
       "      <td>0</td>\n",
       "      <td>0</td>\n",
       "    </tr>\n",
       "    <tr>\n",
       "      <th>4</th>\n",
       "      <td>9237-HQITU</td>\n",
       "      <td>2</td>\n",
       "      <td>1</td>\n",
       "      <td>0</td>\n",
       "      <td>1</td>\n",
       "      <td>2</td>\n",
       "      <td>70.70</td>\n",
       "      <td>151.65</td>\n",
       "      <td>1</td>\n",
       "      <td>0</td>\n",
       "      <td>...</td>\n",
       "      <td>0</td>\n",
       "      <td>0</td>\n",
       "      <td>0</td>\n",
       "      <td>1</td>\n",
       "      <td>0</td>\n",
       "      <td>0</td>\n",
       "      <td>0</td>\n",
       "      <td>0</td>\n",
       "      <td>0</td>\n",
       "      <td>0</td>\n",
       "    </tr>\n",
       "  </tbody>\n",
       "</table>\n",
       "<p>5 rows × 21 columns</p>\n",
       "</div>"
      ],
      "text/plain": [
       "   customerID  tenure  PhoneService  Contract  PaperlessBilling  \\\n",
       "0  7590-VHVEG       1             0         0                 1   \n",
       "1  5575-GNVDE      34             1         1                 0   \n",
       "2  3668-QPYBK       2             1         0                 1   \n",
       "3  7795-CFOCW      45             0         1                 0   \n",
       "4  9237-HQITU       2             1         0                 1   \n",
       "\n",
       "   PaymentMethod  MonthlyCharges TotalCharges  Churn  gender  ...  Partner  \\\n",
       "0              2           29.85        29.85      0       0  ...        1   \n",
       "1              3           56.95       1889.5      0       1  ...        0   \n",
       "2              3           53.85       108.15      1       1  ...        0   \n",
       "3              0           42.30      1840.75      0       1  ...        0   \n",
       "4              2           70.70       151.65      1       0  ...        0   \n",
       "\n",
       "   Dependents  MultipleLines  InternetService  OnlineSecurity  OnlineBackup  \\\n",
       "0           0              1                0               0             2   \n",
       "1           0              0                0               2             0   \n",
       "2           0              0                0               2             2   \n",
       "3           0              1                0               2             0   \n",
       "4           0              0                1               0             0   \n",
       "\n",
       "   DeviceProtection  TechSupport  StreamingTV  StreamingMovies  \n",
       "0                 0            0            0                0  \n",
       "1                 2            0            0                0  \n",
       "2                 0            0            0                0  \n",
       "3                 2            2            0                0  \n",
       "4                 0            0            0                0  \n",
       "\n",
       "[5 rows x 21 columns]"
      ]
     },
     "execution_count": 51,
     "metadata": {},
     "output_type": "execute_result"
    }
   ],
   "source": [
    "df4.head()"
   ]
  },
  {
   "cell_type": "code",
   "execution_count": 52,
   "id": "0c8beb0f-21df-4f88-acd2-f7ad408cc4c4",
   "metadata": {},
   "outputs": [],
   "source": [
    "df4.drop('customerID', axis=1, inplace=True)"
   ]
  },
  {
   "cell_type": "code",
   "execution_count": 53,
   "id": "eec4bbb6-b36e-4b6f-8e11-f24f922c967f",
   "metadata": {},
   "outputs": [
    {
     "name": "stdout",
     "output_type": "stream",
     "text": [
      "<class 'pandas.core.frame.DataFrame'>\n",
      "RangeIndex: 7043 entries, 0 to 7042\n",
      "Data columns (total 20 columns):\n",
      " #   Column            Non-Null Count  Dtype  \n",
      "---  ------            --------------  -----  \n",
      " 0   tenure            7043 non-null   int64  \n",
      " 1   PhoneService      7043 non-null   int64  \n",
      " 2   Contract          7043 non-null   int32  \n",
      " 3   PaperlessBilling  7043 non-null   int64  \n",
      " 4   PaymentMethod     7043 non-null   int32  \n",
      " 5   MonthlyCharges    7043 non-null   float64\n",
      " 6   TotalCharges      7043 non-null   object \n",
      " 7   Churn             7043 non-null   int64  \n",
      " 8   gender            7043 non-null   int64  \n",
      " 9   SeniorCitizen     7043 non-null   int64  \n",
      " 10  Partner           7043 non-null   int64  \n",
      " 11  Dependents        7043 non-null   int64  \n",
      " 12  MultipleLines     7043 non-null   int32  \n",
      " 13  InternetService   7043 non-null   int32  \n",
      " 14  OnlineSecurity    7043 non-null   int32  \n",
      " 15  OnlineBackup      7043 non-null   int32  \n",
      " 16  DeviceProtection  7043 non-null   int32  \n",
      " 17  TechSupport       7043 non-null   int32  \n",
      " 18  StreamingTV       7043 non-null   int32  \n",
      " 19  StreamingMovies   7043 non-null   int32  \n",
      "dtypes: float64(1), int32(10), int64(8), object(1)\n",
      "memory usage: 825.5+ KB\n"
     ]
    }
   ],
   "source": [
    "df4.info()"
   ]
  },
  {
   "cell_type": "code",
   "execution_count": 54,
   "id": "23dfa9b2-7d87-4f70-80b7-819d03cf976b",
   "metadata": {},
   "outputs": [],
   "source": [
    "df4['TotalCharges'] = pd.to_numeric(df4.TotalCharges, errors = 'coerce')"
   ]
  },
  {
   "cell_type": "code",
   "execution_count": 55,
   "id": "2761e384-b318-48ee-a83c-cdad215b5d07",
   "metadata": {},
   "outputs": [
    {
     "name": "stdout",
     "output_type": "stream",
     "text": [
      "<class 'pandas.core.frame.DataFrame'>\n",
      "RangeIndex: 7043 entries, 0 to 7042\n",
      "Data columns (total 20 columns):\n",
      " #   Column            Non-Null Count  Dtype  \n",
      "---  ------            --------------  -----  \n",
      " 0   tenure            7043 non-null   int64  \n",
      " 1   PhoneService      7043 non-null   int64  \n",
      " 2   Contract          7043 non-null   int32  \n",
      " 3   PaperlessBilling  7043 non-null   int64  \n",
      " 4   PaymentMethod     7043 non-null   int32  \n",
      " 5   MonthlyCharges    7043 non-null   float64\n",
      " 6   TotalCharges      7032 non-null   float64\n",
      " 7   Churn             7043 non-null   int64  \n",
      " 8   gender            7043 non-null   int64  \n",
      " 9   SeniorCitizen     7043 non-null   int64  \n",
      " 10  Partner           7043 non-null   int64  \n",
      " 11  Dependents        7043 non-null   int64  \n",
      " 12  MultipleLines     7043 non-null   int32  \n",
      " 13  InternetService   7043 non-null   int32  \n",
      " 14  OnlineSecurity    7043 non-null   int32  \n",
      " 15  OnlineBackup      7043 non-null   int32  \n",
      " 16  DeviceProtection  7043 non-null   int32  \n",
      " 17  TechSupport       7043 non-null   int32  \n",
      " 18  StreamingTV       7043 non-null   int32  \n",
      " 19  StreamingMovies   7043 non-null   int32  \n",
      "dtypes: float64(2), int32(10), int64(8)\n",
      "memory usage: 825.5 KB\n"
     ]
    }
   ],
   "source": [
    "df4.info()"
   ]
  },
  {
   "cell_type": "code",
   "execution_count": 56,
   "id": "cb2abd49-26a9-43fa-873e-854cc6aeafb2",
   "metadata": {},
   "outputs": [],
   "source": [
    "df4.dropna(inplace=True)"
   ]
  },
  {
   "cell_type": "markdown",
   "id": "99c9e0ee-4415-443f-a3e2-e5ed9a3787d7",
   "metadata": {},
   "source": [
    "### Devide data into dependent and independent features"
   ]
  },
  {
   "cell_type": "code",
   "execution_count": 57,
   "id": "e59642b9-e8ae-4759-8491-5be768facf0e",
   "metadata": {},
   "outputs": [],
   "source": [
    "X = df4.drop(columns = ['Churn'])   # all independent features\n",
    "y = df4['Churn'].values    # dependent feature"
   ]
  },
  {
   "cell_type": "markdown",
   "id": "a523b9bf-86b2-4447-ba67-3893fa208a71",
   "metadata": {},
   "source": [
    "### Divide components into X and Y and Train Test Split"
   ]
  },
  {
   "cell_type": "code",
   "execution_count": 58,
   "id": "aabbaf4e-8346-4d69-afe3-47873cd8d8e5",
   "metadata": {},
   "outputs": [],
   "source": [
    "# Train Test Split\n",
    "from sklearn.model_selection import train_test_split"
   ]
  },
  {
   "cell_type": "code",
   "execution_count": 59,
   "id": "81a1ccb3-4c00-44ad-9ea5-2e416f871af3",
   "metadata": {},
   "outputs": [],
   "source": [
    "X_train, X_test, y_train, y_test = train_test_split(X, y,test_size=0.20, random_state=100)"
   ]
  },
  {
   "cell_type": "markdown",
   "id": "c65b93b4-c7c7-449b-b62c-3666a4a7132b",
   "metadata": {},
   "source": [
    "### Scaling"
   ]
  },
  {
   "cell_type": "code",
   "execution_count": null,
   "id": "d99f9dc6-3454-4e0f-98dd-bcab4da02647",
   "metadata": {},
   "outputs": [],
   "source": [
    "# from sklearn.preprocessing import MinMaxScaler\n",
    "\n",
    "# # instantiale\n",
    "# scaler = MinMaxScaler()"
   ]
  },
  {
   "cell_type": "code",
   "execution_count": null,
   "id": "b9057245-6e13-482e-a94a-c49c091216fe",
   "metadata": {},
   "outputs": [],
   "source": [
    "# X_train = scaler.fit_transform(X_train)"
   ]
  },
  {
   "cell_type": "code",
   "execution_count": null,
   "id": "2c4c447b-0a48-4277-9657-8c7fc8ed275d",
   "metadata": {},
   "outputs": [],
   "source": [
    "# X_test = scaler.fit_transform(X_test)"
   ]
  },
  {
   "cell_type": "markdown",
   "id": "773e0685-faaf-455f-8470-3dbc0178b645",
   "metadata": {},
   "source": [
    "### Training the Data (with the appropriate alogorithm from the right family alogrithms)"
   ]
  },
  {
   "cell_type": "code",
   "execution_count": 60,
   "id": "65864656-cd0c-47b6-a452-a5164efac3e4",
   "metadata": {},
   "outputs": [],
   "source": [
    "from sklearn.ensemble import RandomForestClassifier\n",
    "from sklearn import metrics\n",
    "from sklearn.metrics import classification_report"
   ]
  },
  {
   "cell_type": "code",
   "execution_count": 61,
   "id": "0e8c7e73-f125-41ac-8d1b-da9bdb408e3e",
   "metadata": {},
   "outputs": [],
   "source": [
    "# instantiate\n",
    "\n",
    "model_rf = RandomForestClassifier(n_estimators=100 , oob_score = True, n_jobs = -1,\n",
    "                                  random_state =40, max_features = \"sqrt\",\n",
    "                                  max_leaf_nodes = 60)"
   ]
  },
  {
   "cell_type": "code",
   "execution_count": 62,
   "id": "77842a0f-6cdd-4c3a-bd7c-d259f76e3544",
   "metadata": {},
   "outputs": [
    {
     "data": {
      "text/html": [
       "<style>#sk-container-id-1 {color: black;background-color: white;}#sk-container-id-1 pre{padding: 0;}#sk-container-id-1 div.sk-toggleable {background-color: white;}#sk-container-id-1 label.sk-toggleable__label {cursor: pointer;display: block;width: 100%;margin-bottom: 0;padding: 0.3em;box-sizing: border-box;text-align: center;}#sk-container-id-1 label.sk-toggleable__label-arrow:before {content: \"▸\";float: left;margin-right: 0.25em;color: #696969;}#sk-container-id-1 label.sk-toggleable__label-arrow:hover:before {color: black;}#sk-container-id-1 div.sk-estimator:hover label.sk-toggleable__label-arrow:before {color: black;}#sk-container-id-1 div.sk-toggleable__content {max-height: 0;max-width: 0;overflow: hidden;text-align: left;background-color: #f0f8ff;}#sk-container-id-1 div.sk-toggleable__content pre {margin: 0.2em;color: black;border-radius: 0.25em;background-color: #f0f8ff;}#sk-container-id-1 input.sk-toggleable__control:checked~div.sk-toggleable__content {max-height: 200px;max-width: 100%;overflow: auto;}#sk-container-id-1 input.sk-toggleable__control:checked~label.sk-toggleable__label-arrow:before {content: \"▾\";}#sk-container-id-1 div.sk-estimator input.sk-toggleable__control:checked~label.sk-toggleable__label {background-color: #d4ebff;}#sk-container-id-1 div.sk-label input.sk-toggleable__control:checked~label.sk-toggleable__label {background-color: #d4ebff;}#sk-container-id-1 input.sk-hidden--visually {border: 0;clip: rect(1px 1px 1px 1px);clip: rect(1px, 1px, 1px, 1px);height: 1px;margin: -1px;overflow: hidden;padding: 0;position: absolute;width: 1px;}#sk-container-id-1 div.sk-estimator {font-family: monospace;background-color: #f0f8ff;border: 1px dotted black;border-radius: 0.25em;box-sizing: border-box;margin-bottom: 0.5em;}#sk-container-id-1 div.sk-estimator:hover {background-color: #d4ebff;}#sk-container-id-1 div.sk-parallel-item::after {content: \"\";width: 100%;border-bottom: 1px solid gray;flex-grow: 1;}#sk-container-id-1 div.sk-label:hover label.sk-toggleable__label {background-color: #d4ebff;}#sk-container-id-1 div.sk-serial::before {content: \"\";position: absolute;border-left: 1px solid gray;box-sizing: border-box;top: 0;bottom: 0;left: 50%;z-index: 0;}#sk-container-id-1 div.sk-serial {display: flex;flex-direction: column;align-items: center;background-color: white;padding-right: 0.2em;padding-left: 0.2em;position: relative;}#sk-container-id-1 div.sk-item {position: relative;z-index: 1;}#sk-container-id-1 div.sk-parallel {display: flex;align-items: stretch;justify-content: center;background-color: white;position: relative;}#sk-container-id-1 div.sk-item::before, #sk-container-id-1 div.sk-parallel-item::before {content: \"\";position: absolute;border-left: 1px solid gray;box-sizing: border-box;top: 0;bottom: 0;left: 50%;z-index: -1;}#sk-container-id-1 div.sk-parallel-item {display: flex;flex-direction: column;z-index: 1;position: relative;background-color: white;}#sk-container-id-1 div.sk-parallel-item:first-child::after {align-self: flex-end;width: 50%;}#sk-container-id-1 div.sk-parallel-item:last-child::after {align-self: flex-start;width: 50%;}#sk-container-id-1 div.sk-parallel-item:only-child::after {width: 0;}#sk-container-id-1 div.sk-dashed-wrapped {border: 1px dashed gray;margin: 0 0.4em 0.5em 0.4em;box-sizing: border-box;padding-bottom: 0.4em;background-color: white;}#sk-container-id-1 div.sk-label label {font-family: monospace;font-weight: bold;display: inline-block;line-height: 1.2em;}#sk-container-id-1 div.sk-label-container {text-align: center;}#sk-container-id-1 div.sk-container {/* jupyter's `normalize.less` sets `[hidden] { display: none; }` but bootstrap.min.css set `[hidden] { display: none !important; }` so we also need the `!important` here to be able to override the default hidden behavior on the sphinx rendered scikit-learn.org. See: https://github.com/scikit-learn/scikit-learn/issues/21755 */display: inline-block !important;position: relative;}#sk-container-id-1 div.sk-text-repr-fallback {display: none;}</style><div id=\"sk-container-id-1\" class=\"sk-top-container\"><div class=\"sk-text-repr-fallback\"><pre>RandomForestClassifier(max_leaf_nodes=60, n_jobs=-1, oob_score=True,\n",
       "                       random_state=40)</pre><b>In a Jupyter environment, please rerun this cell to show the HTML representation or trust the notebook. <br />On GitHub, the HTML representation is unable to render, please try loading this page with nbviewer.org.</b></div><div class=\"sk-container\" hidden><div class=\"sk-item\"><div class=\"sk-estimator sk-toggleable\"><input class=\"sk-toggleable__control sk-hidden--visually\" id=\"sk-estimator-id-1\" type=\"checkbox\" checked><label for=\"sk-estimator-id-1\" class=\"sk-toggleable__label sk-toggleable__label-arrow\">RandomForestClassifier</label><div class=\"sk-toggleable__content\"><pre>RandomForestClassifier(max_leaf_nodes=60, n_jobs=-1, oob_score=True,\n",
       "                       random_state=40)</pre></div></div></div></div></div>"
      ],
      "text/plain": [
       "RandomForestClassifier(max_leaf_nodes=60, n_jobs=-1, oob_score=True,\n",
       "                       random_state=40)"
      ]
     },
     "execution_count": 62,
     "metadata": {},
     "output_type": "execute_result"
    }
   ],
   "source": [
    "# model fitting\n",
    "\n",
    "model_rf.fit(X_train,y_train)"
   ]
  },
  {
   "cell_type": "code",
   "execution_count": 63,
   "id": "1b8e1b24-ce1d-4b2b-955a-8d5b20437061",
   "metadata": {},
   "outputs": [
    {
     "name": "stdout",
     "output_type": "stream",
     "text": [
      "0.7882018479033405\n"
     ]
    }
   ],
   "source": [
    "# Make predictions\n",
    "\n",
    "prediction_test = model_rf.predict(X_test)\n",
    "print (metrics.accuracy_score(y_test, prediction_test))"
   ]
  },
  {
   "cell_type": "code",
   "execution_count": 64,
   "id": "e46fd99b-3f35-4285-919f-5265fa2a2e4c",
   "metadata": {},
   "outputs": [
    {
     "name": "stdout",
     "output_type": "stream",
     "text": [
      "              precision    recall  f1-score   support\n",
      "\n",
      "           0       0.83      0.89      0.86      1013\n",
      "           1       0.65      0.52      0.58       394\n",
      "\n",
      "    accuracy                           0.79      1407\n",
      "   macro avg       0.74      0.71      0.72      1407\n",
      "weighted avg       0.78      0.79      0.78      1407\n",
      "\n"
     ]
    }
   ],
   "source": [
    "# Evaluation of the final model with right metrics ( Accuracy,Precision, Recall, f1-Score,Sensitivity, Specificity)\n",
    "\n",
    "print(classification_report(y_test, prediction_test))"
   ]
  },
  {
   "cell_type": "markdown",
   "id": "1ddca7a9-bc50-419c-904a-984b3edde41c",
   "metadata": {},
   "source": [
    "### Re iterate the whole process to get better model scores."
   ]
  }
 ],
 "metadata": {
  "kernelspec": {
   "display_name": "Python 3 (ipykernel)",
   "language": "python",
   "name": "python3"
  },
  "language_info": {
   "codemirror_mode": {
    "name": "ipython",
    "version": 3
   },
   "file_extension": ".py",
   "mimetype": "text/x-python",
   "name": "python",
   "nbconvert_exporter": "python",
   "pygments_lexer": "ipython3",
   "version": "3.11.7"
  }
 },
 "nbformat": 4,
 "nbformat_minor": 5
}
